{
 "cells": [
  {
   "cell_type": "code",
   "execution_count": 1,
   "id": "1df4f88f-ae1a-4b8d-a73a-d3ce48440fee",
   "metadata": {},
   "outputs": [
    {
     "name": "stderr",
     "output_type": "stream",
     "text": [
      "2023-11-26 08:13:48.775218: I tensorflow/core/platform/cpu_feature_guard.cc:182] This TensorFlow binary is optimized to use available CPU instructions in performance-critical operations.\n",
      "To enable the following instructions: SSE3 SSE4.1 SSE4.2 AVX AVX2 FMA, in other operations, rebuild TensorFlow with the appropriate compiler flags.\n"
     ]
    }
   ],
   "source": [
    "import json\n",
    "import numpy as np\n",
    "from sklearn.model_selection import train_test_split\n",
    "import tensorflow.keras as keras"
   ]
  },
  {
   "cell_type": "code",
   "execution_count": 2,
   "id": "834b9f90-b725-49f7-8739-d1d032f2ef10",
   "metadata": {},
   "outputs": [],
   "source": [
    "DATA_PATH = \"data.json\""
   ]
  },
  {
   "cell_type": "code",
   "execution_count": 3,
   "id": "fa6cf7fe-8294-41fe-9654-5e3230084d43",
   "metadata": {},
   "outputs": [],
   "source": [
    "def load_data(data_path):\n",
    "    \"\"\"Loads training dataset from json file.\n",
    "\n",
    "        :param data_path (str): Path to json file containing data\n",
    "        :return X (ndarray): Inputs\n",
    "        :return y (ndarray): Targets\n",
    "    \"\"\"\n",
    "\n",
    "    with open(data_path, \"r\") as fp:\n",
    "        data = json.load(fp)\n",
    "\n",
    "    # convert lists to numpy arrays\n",
    "    X = np.array(data[\"mfcc\"])\n",
    "    y = np.array(data[\"labels\"])\n",
    "\n",
    "\n",
    "    return  X, y\n"
   ]
  },
  {
   "cell_type": "code",
   "execution_count": 4,
   "id": "a3923b17-7455-43f3-9b80-15f413959456",
   "metadata": {},
   "outputs": [],
   "source": [
    "def prepare_datasets(test_size, validation_size):\n",
    "    \"\"\"Loads data and splits it into train, validation and test sets.\n",
    "\n",
    "    :param test_size (float): Value in [0, 1] indicating percentage of data set to allocate to test split\n",
    "    :param validation_size (float): Value in [0, 1] indicating percentage of train set to allocate to validation split\n",
    "\n",
    "    :return X_train (ndarray): Input training set\n",
    "    :return X_validation (ndarray): Input validation set\n",
    "    :return X_test (ndarray): Input test set\n",
    "    :return y_train (ndarray): Target training set\n",
    "    :return y_validation (ndarray): Target validation set\n",
    "    :return y_test (ndarray): Target test set\n",
    "    \"\"\"\n",
    "\n",
    "    # load data\n",
    "    X, y = load_data(DATA_PATH)\n",
    "\n",
    "    # create train, validation and test split\n",
    "    X_train, X_test, y_train, y_test = train_test_split(X, y, test_size=test_size)\n",
    "    X_train, X_validation, y_train, y_validation = train_test_split(X_train, y_train, test_size=validation_size)\n",
    "\n",
    "    # add an axis to input sets\n",
    "    X_train = X_train[..., np.newaxis]\n",
    "    X_validation = X_validation[..., np.newaxis]\n",
    "    X_test = X_test[..., np.newaxis]\n",
    "\n",
    "    return X_train, X_validation, X_test, y_train, y_validation, y_test\n"
   ]
  },
  {
   "cell_type": "code",
   "execution_count": 12,
   "id": "c014024d-dca4-49a2-b9e8-60608f08a323",
   "metadata": {},
   "outputs": [],
   "source": [
    "def build_model(input_shape):\n",
    "    \"\"\"Generates CNN model\n",
    "\n",
    "    :param input_shape (tuple): Shape of input set\n",
    "    :return model: CNN model\n",
    "    \"\"\"\n",
    "\n",
    "    # build network topology\n",
    "    model = keras.Sequential()\n",
    "\n",
    "    # 1st conv layer\n",
    "    model.add(keras.layers.Conv2D(32, (3, 3), activation='relu', input_shape=input_shape))\n",
    "    model.add(keras.layers.MaxPooling2D((3, 3), strides=(2, 2), padding='same'))\n",
    "    model.add(keras.layers.BatchNormalization())\n",
    "\n",
    "    # 2nd conv layer\n",
    "    model.add(keras.layers.Conv2D(32, (3, 3), activation='relu'))\n",
    "    model.add(keras.layers.MaxPooling2D((3, 3), strides=(2, 2), padding='same'))\n",
    "    model.add(keras.layers.BatchNormalization())\n",
    "\n",
    "    # 3rd conv layer\n",
    "    model.add(keras.layers.Conv2D(32, (2, 2), activation='relu'))\n",
    "    model.add(keras.layers.MaxPooling2D((2, 2), strides=(2, 2), padding='same'))\n",
    "    model.add(keras.layers.BatchNormalization())\n",
    "\n",
    "    # flatten output and feed it into dense layer\n",
    "    model.add(keras.layers.Flatten())\n",
    "    model.add(keras.layers.Dense(64, activation='relu'))\n",
    "    model.add(keras.layers.Dropout(0.33))\n",
    "\n",
    "    # output layer\n",
    "    model.add(keras.layers.Dense(10, activation='softmax'))\n",
    "\n",
    "    return model\n"
   ]
  },
  {
   "cell_type": "code",
   "execution_count": 6,
   "id": "f64b8f03-8d64-4d64-8359-b89f2aaa5cb7",
   "metadata": {},
   "outputs": [],
   "source": [
    "X_train, X_validation, X_test, y_train, y_validation, y_test = prepare_datasets(0.25, 0.2)"
   ]
  },
  {
   "cell_type": "code",
   "execution_count": 13,
   "id": "76c60bde-465b-4e7a-929f-2e942c122331",
   "metadata": {},
   "outputs": [],
   "source": [
    "# create network\n",
    "input_shape = (X_train.shape[1], X_train.shape[2], 1)\n",
    "model = build_model(input_shape)"
   ]
  },
  {
   "cell_type": "code",
   "execution_count": 14,
   "id": "5ac37aa7-f36d-4613-b01c-7eeb6b5d94b2",
   "metadata": {},
   "outputs": [],
   "source": [
    "# compile model\n",
    "optimiser = keras.optimizers.Adam(learning_rate=0.0001)\n",
    "model.compile(optimizer=optimiser,\n",
    "                loss='sparse_categorical_crossentropy',\n",
    "                metrics=['accuracy'])"
   ]
  },
  {
   "cell_type": "code",
   "execution_count": 15,
   "id": "11635be5-e94b-4fc3-a212-ee389b412fbb",
   "metadata": {},
   "outputs": [
    {
     "name": "stdout",
     "output_type": "stream",
     "text": [
      "Model: \"sequential_3\"\n",
      "_________________________________________________________________\n",
      " Layer (type)                Output Shape              Param #   \n",
      "=================================================================\n",
      " conv2d_9 (Conv2D)           (None, 257, 11, 32)       320       \n",
      "                                                                 \n",
      " max_pooling2d_9 (MaxPooling  (None, 129, 6, 32)       0         \n",
      " 2D)                                                             \n",
      "                                                                 \n",
      " batch_normalization_9 (Batc  (None, 129, 6, 32)       128       \n",
      " hNormalization)                                                 \n",
      "                                                                 \n",
      " conv2d_10 (Conv2D)          (None, 127, 4, 32)        9248      \n",
      "                                                                 \n",
      " max_pooling2d_10 (MaxPoolin  (None, 64, 2, 32)        0         \n",
      " g2D)                                                            \n",
      "                                                                 \n",
      " batch_normalization_10 (Bat  (None, 64, 2, 32)        128       \n",
      " chNormalization)                                                \n",
      "                                                                 \n",
      " conv2d_11 (Conv2D)          (None, 63, 1, 32)         4128      \n",
      "                                                                 \n",
      " max_pooling2d_11 (MaxPoolin  (None, 32, 1, 32)        0         \n",
      " g2D)                                                            \n",
      "                                                                 \n",
      " batch_normalization_11 (Bat  (None, 32, 1, 32)        128       \n",
      " chNormalization)                                                \n",
      "                                                                 \n",
      " flatten_3 (Flatten)         (None, 1024)              0         \n",
      "                                                                 \n",
      " dense_4 (Dense)             (None, 64)                65600     \n",
      "                                                                 \n",
      " dropout_1 (Dropout)         (None, 64)                0         \n",
      "                                                                 \n",
      " dense_5 (Dense)             (None, 10)                650       \n",
      "                                                                 \n",
      "=================================================================\n",
      "Total params: 80,330\n",
      "Trainable params: 80,138\n",
      "Non-trainable params: 192\n",
      "_________________________________________________________________\n"
     ]
    }
   ],
   "source": [
    "model.summary()"
   ]
  },
  {
   "cell_type": "code",
   "execution_count": 16,
   "id": "f394a355-8351-48f2-b9bc-a200db4225bf",
   "metadata": {},
   "outputs": [
    {
     "name": "stdout",
     "output_type": "stream",
     "text": [
      "Epoch 1/30\n",
      "93/93 [==============================] - 13s 130ms/step - loss: 2.6369 - accuracy: 0.1951 - val_loss: 2.3760 - val_accuracy: 0.2140\n",
      "Epoch 2/30\n",
      "93/93 [==============================] - 11s 123ms/step - loss: 1.9891 - accuracy: 0.3292 - val_loss: 1.7214 - val_accuracy: 0.3876\n",
      "Epoch 3/30\n",
      "93/93 [==============================] - 15s 159ms/step - loss: 1.6966 - accuracy: 0.4080 - val_loss: 1.5223 - val_accuracy: 0.4778\n",
      "Epoch 4/30\n",
      "93/93 [==============================] - 20s 214ms/step - loss: 1.5484 - accuracy: 0.4464 - val_loss: 1.4091 - val_accuracy: 0.5155\n",
      "Epoch 5/30\n",
      "93/93 [==============================] - 13s 144ms/step - loss: 1.4244 - accuracy: 0.4970 - val_loss: 1.3171 - val_accuracy: 0.5316\n",
      "Epoch 6/30\n",
      "93/93 [==============================] - 14s 153ms/step - loss: 1.3272 - accuracy: 0.5246 - val_loss: 1.2831 - val_accuracy: 0.5599\n",
      "Epoch 7/30\n",
      "93/93 [==============================] - 13s 143ms/step - loss: 1.2696 - accuracy: 0.5455 - val_loss: 1.2021 - val_accuracy: 0.5855\n",
      "Epoch 8/30\n",
      "93/93 [==============================] - 13s 144ms/step - loss: 1.2157 - accuracy: 0.5684 - val_loss: 1.1825 - val_accuracy: 0.5976\n",
      "Epoch 9/30\n",
      "93/93 [==============================] - 11s 117ms/step - loss: 1.1463 - accuracy: 0.5960 - val_loss: 1.1659 - val_accuracy: 0.6110\n",
      "Epoch 10/30\n",
      "93/93 [==============================] - 14s 152ms/step - loss: 1.0736 - accuracy: 0.6075 - val_loss: 1.1254 - val_accuracy: 0.6272\n",
      "Epoch 11/30\n",
      "93/93 [==============================] - 16s 172ms/step - loss: 1.0606 - accuracy: 0.6216 - val_loss: 1.0730 - val_accuracy: 0.6447\n",
      "Epoch 12/30\n",
      "93/93 [==============================] - 19s 201ms/step - loss: 1.0014 - accuracy: 0.6530 - val_loss: 1.0467 - val_accuracy: 0.6528\n",
      "Epoch 13/30\n",
      "93/93 [==============================] - 14s 147ms/step - loss: 0.9723 - accuracy: 0.6493 - val_loss: 1.0385 - val_accuracy: 0.6555\n",
      "Epoch 14/30\n",
      "93/93 [==============================] - 13s 139ms/step - loss: 0.9205 - accuracy: 0.6890 - val_loss: 1.0155 - val_accuracy: 0.6662\n",
      "Epoch 15/30\n",
      "93/93 [==============================] - 14s 156ms/step - loss: 0.8742 - accuracy: 0.6867 - val_loss: 0.9988 - val_accuracy: 0.6649\n",
      "Epoch 16/30\n",
      "93/93 [==============================] - 10s 110ms/step - loss: 0.8646 - accuracy: 0.6958 - val_loss: 1.0018 - val_accuracy: 0.6689\n",
      "Epoch 17/30\n",
      "93/93 [==============================] - 10s 105ms/step - loss: 0.8295 - accuracy: 0.7052 - val_loss: 0.9637 - val_accuracy: 0.6703\n",
      "Epoch 18/30\n",
      "93/93 [==============================] - 13s 139ms/step - loss: 0.8189 - accuracy: 0.7109 - val_loss: 0.9748 - val_accuracy: 0.6878\n",
      "Epoch 19/30\n",
      "93/93 [==============================] - 12s 129ms/step - loss: 0.7598 - accuracy: 0.7298 - val_loss: 0.9517 - val_accuracy: 0.6864\n",
      "Epoch 20/30\n",
      "93/93 [==============================] - 11s 115ms/step - loss: 0.7690 - accuracy: 0.7385 - val_loss: 0.9349 - val_accuracy: 0.6851\n",
      "Epoch 21/30\n",
      "93/93 [==============================] - 12s 132ms/step - loss: 0.7107 - accuracy: 0.7503 - val_loss: 0.9577 - val_accuracy: 0.6891\n",
      "Epoch 22/30\n",
      "93/93 [==============================] - 13s 139ms/step - loss: 0.7101 - accuracy: 0.7574 - val_loss: 0.9201 - val_accuracy: 0.7052\n",
      "Epoch 23/30\n",
      "93/93 [==============================] - 12s 127ms/step - loss: 0.6955 - accuracy: 0.7588 - val_loss: 0.9172 - val_accuracy: 0.6985\n",
      "Epoch 24/30\n",
      "93/93 [==============================] - 13s 135ms/step - loss: 0.6500 - accuracy: 0.7844 - val_loss: 0.9043 - val_accuracy: 0.7079\n",
      "Epoch 25/30\n",
      "93/93 [==============================] - 14s 156ms/step - loss: 0.6513 - accuracy: 0.7692 - val_loss: 0.8792 - val_accuracy: 0.6972\n",
      "Epoch 26/30\n",
      "93/93 [==============================] - 13s 135ms/step - loss: 0.5998 - accuracy: 0.7975 - val_loss: 0.8832 - val_accuracy: 0.7066\n",
      "Epoch 27/30\n",
      "93/93 [==============================] - 12s 129ms/step - loss: 0.5915 - accuracy: 0.8046 - val_loss: 0.9023 - val_accuracy: 0.7026\n",
      "Epoch 28/30\n",
      "93/93 [==============================] - 13s 136ms/step - loss: 0.5780 - accuracy: 0.8069 - val_loss: 0.8615 - val_accuracy: 0.7335\n",
      "Epoch 29/30\n",
      "93/93 [==============================] - 13s 140ms/step - loss: 0.5659 - accuracy: 0.8076 - val_loss: 0.8853 - val_accuracy: 0.7160\n",
      "Epoch 30/30\n",
      "93/93 [==============================] - 12s 131ms/step - loss: 0.5614 - accuracy: 0.8093 - val_loss: 0.8798 - val_accuracy: 0.7093\n"
     ]
    }
   ],
   "source": [
    "# train model\n",
    "history = model.fit(X_train, y_train, validation_data=(X_validation, y_validation), batch_size=32, epochs=30)"
   ]
  },
  {
   "cell_type": "code",
   "execution_count": null,
   "id": "e32f38eb-2c26-4fce-8405-d4dab9191565",
   "metadata": {},
   "outputs": [],
   "source": []
  }
 ],
 "metadata": {
  "kernelspec": {
   "display_name": "Python 3 (ipykernel)",
   "language": "python",
   "name": "python3"
  },
  "language_info": {
   "codemirror_mode": {
    "name": "ipython",
    "version": 3
   },
   "file_extension": ".py",
   "mimetype": "text/x-python",
   "name": "python",
   "nbconvert_exporter": "python",
   "pygments_lexer": "ipython3",
   "version": "3.11.5"
  }
 },
 "nbformat": 4,
 "nbformat_minor": 5
}
