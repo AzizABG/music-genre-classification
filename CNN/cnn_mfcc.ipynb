{
 "cells": [
  {
   "cell_type": "code",
   "execution_count": 1,
   "id": "60a5e650-b96c-42c8-b41d-be682ac2b154",
   "metadata": {},
   "outputs": [
    {
     "name": "stderr",
     "output_type": "stream",
     "text": [
      "2023-11-18 08:25:48.910400: I tensorflow/core/platform/cpu_feature_guard.cc:182] This TensorFlow binary is optimized to use available CPU instructions in performance-critical operations.\n",
      "To enable the following instructions: SSE3 SSE4.1 SSE4.2 AVX AVX2 FMA, in other operations, rebuild TensorFlow with the appropriate compiler flags.\n",
      "/usr/lib/python3.11/site-packages/h5py/__init__.py:36: UserWarning: h5py is running against HDF5 1.14.3 when it was built against 1.14.2, this may cause problems\n",
      "  _warn((\"h5py is running against HDF5 {0} when it was built against {1}, \"\n"
     ]
    }
   ],
   "source": [
    "import json\n",
    "import numpy as np\n",
    "from sklearn.model_selection import train_test_split\n",
    "import tensorflow.keras as keras"
   ]
  },
  {
   "cell_type": "code",
   "execution_count": 2,
   "id": "c4b5a16c-c5dd-49b7-979b-3ed4b5efbb5d",
   "metadata": {},
   "outputs": [],
   "source": [
    "DATA_PATH = \"../datasets/processed_data/data.json\""
   ]
  },
  {
   "cell_type": "code",
   "execution_count": 4,
   "id": "ba03b8fa-34c9-444e-b8dd-84f4db847957",
   "metadata": {},
   "outputs": [],
   "source": [
    "def load_data(data_path):\n",
    "    \"\"\"Loads training dataset from json file.\n",
    "\n",
    "        :param data_path (str): Path to json file containing data\n",
    "        :return X (ndarray): Inputs\n",
    "        :return y (ndarray): Targets\n",
    "    \"\"\"\n",
    "\n",
    "    with open(data_path, \"r\") as fp:\n",
    "        data = json.load(fp)\n",
    "\n",
    "    # convert lists to numpy arrays\n",
    "    X = np.array(data[\"mfcc\"])\n",
    "    y = np.array(data[\"labels\"])\n",
    "\n",
    "\n",
    "    return  X, y\n"
   ]
  },
  {
   "cell_type": "code",
   "execution_count": 5,
   "id": "f3ecd1a8-511b-4290-b5b9-d880a4683246",
   "metadata": {},
   "outputs": [],
   "source": [
    "def prepare_datasets(test_size, validation_size):\n",
    "    \"\"\"Loads data and splits it into train, validation and test sets.\n",
    "\n",
    "    :param test_size (float): Value in [0, 1] indicating percentage of data set to allocate to test split\n",
    "    :param validation_size (float): Value in [0, 1] indicating percentage of train set to allocate to validation split\n",
    "\n",
    "    :return X_train (ndarray): Input training set\n",
    "    :return X_validation (ndarray): Input validation set\n",
    "    :return X_test (ndarray): Input test set\n",
    "    :return y_train (ndarray): Target training set\n",
    "    :return y_validation (ndarray): Target validation set\n",
    "    :return y_test (ndarray): Target test set\n",
    "    \"\"\"\n",
    "\n",
    "    # load data\n",
    "    X, y = load_data(DATA_PATH)\n",
    "\n",
    "    # create train, validation and test split\n",
    "    X_train, X_test, y_train, y_test = train_test_split(X, y, test_size=test_size)\n",
    "    X_train, X_validation, y_train, y_validation = train_test_split(X_train, y_train, test_size=validation_size)\n",
    "\n",
    "    # add an axis to input sets\n",
    "    X_train = X_train[..., np.newaxis]\n",
    "    X_validation = X_validation[..., np.newaxis]\n",
    "    X_test = X_test[..., np.newaxis]\n",
    "\n",
    "    return X_train, X_validation, X_test, y_train, y_validation, y_test\n"
   ]
  },
  {
   "cell_type": "code",
   "execution_count": 6,
   "id": "e446e9b9-2e98-496f-8a08-0dd76faeae5e",
   "metadata": {},
   "outputs": [],
   "source": [
    "def build_model(input_shape):\n",
    "    \"\"\"Generates CNN model\n",
    "\n",
    "    :param input_shape (tuple): Shape of input set\n",
    "    :return model: CNN model\n",
    "    \"\"\"\n",
    "\n",
    "    # build network topology\n",
    "    model = keras.Sequential()\n",
    "\n",
    "    # 1st conv layer\n",
    "    model.add(keras.layers.Conv2D(32, (3, 3), activation='relu', input_shape=input_shape))\n",
    "    model.add(keras.layers.MaxPooling2D((3, 3), strides=(2, 2), padding='same'))\n",
    "    model.add(keras.layers.BatchNormalization())\n",
    "\n",
    "    # 2nd conv layer\n",
    "    model.add(keras.layers.Conv2D(32, (3, 3), activation='relu'))\n",
    "    model.add(keras.layers.MaxPooling2D((3, 3), strides=(2, 2), padding='same'))\n",
    "    model.add(keras.layers.BatchNormalization())\n",
    "\n",
    "    # 3rd conv layer\n",
    "    model.add(keras.layers.Conv2D(32, (2, 2), activation='relu'))\n",
    "    model.add(keras.layers.MaxPooling2D((2, 2), strides=(2, 2), padding='same'))\n",
    "    model.add(keras.layers.BatchNormalization())\n",
    "\n",
    "    # flatten output and feed it into dense layer\n",
    "    model.add(keras.layers.Flatten())\n",
    "    model.add(keras.layers.Dense(64, activation='relu'))\n",
    "    model.add(keras.layers.Dropout(0.3))\n",
    "\n",
    "    # output layer\n",
    "    model.add(keras.layers.Dense(10, activation='softmax'))\n",
    "\n",
    "    return model\n"
   ]
  },
  {
   "cell_type": "code",
   "execution_count": 7,
   "id": "a3994ffb-47fe-4e5f-b02a-9f91c14a05d0",
   "metadata": {},
   "outputs": [],
   "source": [
    "X_train, X_validation, X_test, y_train, y_validation, y_test = prepare_datasets(0.25, 0.2)"
   ]
  },
  {
   "cell_type": "code",
   "execution_count": 8,
   "id": "2ed2b208-5036-45b4-ba02-ddc9d3a57fe2",
   "metadata": {},
   "outputs": [
    {
     "name": "stderr",
     "output_type": "stream",
     "text": [
      "2023-11-18 08:29:10.237508: I tensorflow/core/common_runtime/process_util.cc:146] Creating new thread pool with default inter op setting: 2. Tune using inter_op_parallelism_threads for best performance.\n"
     ]
    }
   ],
   "source": [
    "# create network\n",
    "input_shape = (X_train.shape[1], X_train.shape[2], 1)\n",
    "model = build_model(input_shape)"
   ]
  },
  {
   "cell_type": "code",
   "execution_count": 9,
   "id": "aef6820f-89e8-4394-a5cd-797b07007a2a",
   "metadata": {},
   "outputs": [],
   "source": [
    "# compile model\n",
    "optimiser = keras.optimizers.Adam(learning_rate=0.0001)\n",
    "model.compile(optimizer=optimiser,\n",
    "                loss='sparse_categorical_crossentropy',\n",
    "                metrics=['accuracy'])"
   ]
  },
  {
   "cell_type": "code",
   "execution_count": 10,
   "id": "a8c4846d-899c-4a27-ab6b-76e18d1c2701",
   "metadata": {},
   "outputs": [
    {
     "name": "stdout",
     "output_type": "stream",
     "text": [
      "Model: \"sequential\"\n",
      "_________________________________________________________________\n",
      " Layer (type)                Output Shape              Param #   \n",
      "=================================================================\n",
      " conv2d (Conv2D)             (None, 257, 11, 32)       320       \n",
      "                                                                 \n",
      " max_pooling2d (MaxPooling2D  (None, 129, 6, 32)       0         \n",
      " )                                                               \n",
      "                                                                 \n",
      " batch_normalization (BatchN  (None, 129, 6, 32)       128       \n",
      " ormalization)                                                   \n",
      "                                                                 \n",
      " conv2d_1 (Conv2D)           (None, 127, 4, 32)        9248      \n",
      "                                                                 \n",
      " max_pooling2d_1 (MaxPooling  (None, 64, 2, 32)        0         \n",
      " 2D)                                                             \n",
      "                                                                 \n",
      " batch_normalization_1 (Batc  (None, 64, 2, 32)        128       \n",
      " hNormalization)                                                 \n",
      "                                                                 \n",
      " conv2d_2 (Conv2D)           (None, 63, 1, 32)         4128      \n",
      "                                                                 \n",
      " max_pooling2d_2 (MaxPooling  (None, 32, 1, 32)        0         \n",
      " 2D)                                                             \n",
      "                                                                 \n",
      " batch_normalization_2 (Batc  (None, 32, 1, 32)        128       \n",
      " hNormalization)                                                 \n",
      "                                                                 \n",
      " flatten (Flatten)           (None, 1024)              0         \n",
      "                                                                 \n",
      " dense (Dense)               (None, 64)                65600     \n",
      "                                                                 \n",
      " dropout (Dropout)           (None, 64)                0         \n",
      "                                                                 \n",
      " dense_1 (Dense)             (None, 10)                650       \n",
      "                                                                 \n",
      "=================================================================\n",
      "Total params: 80,330\n",
      "Trainable params: 80,138\n",
      "Non-trainable params: 192\n",
      "_________________________________________________________________\n"
     ]
    }
   ],
   "source": [
    "model.summary()"
   ]
  },
  {
   "cell_type": "code",
   "execution_count": 11,
   "id": "0f374991-9750-4533-8a3a-2c64cd43e347",
   "metadata": {},
   "outputs": [
    {
     "name": "stdout",
     "output_type": "stream",
     "text": [
      "Epoch 1/30\n",
      "93/93 [==============================] - 15s 146ms/step - loss: 2.5112 - accuracy: 0.2234 - val_loss: 2.3037 - val_accuracy: 0.2396\n",
      "Epoch 2/30\n",
      "93/93 [==============================] - 14s 147ms/step - loss: 1.8788 - accuracy: 0.3605 - val_loss: 1.7350 - val_accuracy: 0.4051\n",
      "Epoch 3/30\n",
      "93/93 [==============================] - 14s 146ms/step - loss: 1.6238 - accuracy: 0.4289 - val_loss: 1.4979 - val_accuracy: 0.4697\n",
      "Epoch 4/30\n",
      "93/93 [==============================] - 12s 129ms/step - loss: 1.4728 - accuracy: 0.4663 - val_loss: 1.3865 - val_accuracy: 0.5061\n",
      "Epoch 5/30\n",
      "93/93 [==============================] - 12s 132ms/step - loss: 1.3779 - accuracy: 0.5010 - val_loss: 1.3252 - val_accuracy: 0.5451\n",
      "Epoch 6/30\n",
      "93/93 [==============================] - 13s 141ms/step - loss: 1.3007 - accuracy: 0.5344 - val_loss: 1.2759 - val_accuracy: 0.5572\n",
      "Epoch 7/30\n",
      "93/93 [==============================] - 12s 127ms/step - loss: 1.2191 - accuracy: 0.5623 - val_loss: 1.2475 - val_accuracy: 0.5734\n",
      "Epoch 8/30\n",
      "93/93 [==============================] - 13s 134ms/step - loss: 1.1683 - accuracy: 0.5775 - val_loss: 1.2176 - val_accuracy: 0.5545\n",
      "Epoch 9/30\n",
      "93/93 [==============================] - 12s 134ms/step - loss: 1.0939 - accuracy: 0.6065 - val_loss: 1.1818 - val_accuracy: 0.5774\n",
      "Epoch 10/30\n",
      "93/93 [==============================] - 13s 139ms/step - loss: 1.0665 - accuracy: 0.6149 - val_loss: 1.1480 - val_accuracy: 0.5962\n",
      "Epoch 11/30\n",
      "93/93 [==============================] - 11s 122ms/step - loss: 1.0127 - accuracy: 0.6381 - val_loss: 1.1310 - val_accuracy: 0.5962\n",
      "Epoch 12/30\n",
      "93/93 [==============================] - 13s 139ms/step - loss: 0.9661 - accuracy: 0.6634 - val_loss: 1.1159 - val_accuracy: 0.6097\n",
      "Epoch 13/30\n",
      "93/93 [==============================] - 11s 114ms/step - loss: 0.9332 - accuracy: 0.6651 - val_loss: 1.0907 - val_accuracy: 0.6231\n",
      "Epoch 14/30\n",
      "93/93 [==============================] - 13s 136ms/step - loss: 0.8893 - accuracy: 0.6856 - val_loss: 1.1004 - val_accuracy: 0.6124\n",
      "Epoch 15/30\n",
      "93/93 [==============================] - 13s 139ms/step - loss: 0.8826 - accuracy: 0.6937 - val_loss: 1.0877 - val_accuracy: 0.6231\n",
      "Epoch 16/30\n",
      "93/93 [==============================] - 13s 143ms/step - loss: 0.8232 - accuracy: 0.7049 - val_loss: 1.0584 - val_accuracy: 0.6258\n",
      "Epoch 17/30\n",
      "93/93 [==============================] - 13s 141ms/step - loss: 0.7794 - accuracy: 0.7325 - val_loss: 1.0644 - val_accuracy: 0.6326\n",
      "Epoch 18/30\n",
      "93/93 [==============================] - 13s 135ms/step - loss: 0.7610 - accuracy: 0.7375 - val_loss: 1.0621 - val_accuracy: 0.6326\n",
      "Epoch 19/30\n",
      "93/93 [==============================] - 12s 127ms/step - loss: 0.7190 - accuracy: 0.7530 - val_loss: 1.0431 - val_accuracy: 0.6380\n",
      "Epoch 20/30\n",
      "93/93 [==============================] - 13s 135ms/step - loss: 0.7038 - accuracy: 0.7608 - val_loss: 1.0129 - val_accuracy: 0.6487\n",
      "Epoch 21/30\n",
      "93/93 [==============================] - 13s 144ms/step - loss: 0.6886 - accuracy: 0.7557 - val_loss: 1.0246 - val_accuracy: 0.6501\n",
      "Epoch 22/30\n",
      "93/93 [==============================] - 14s 152ms/step - loss: 0.6308 - accuracy: 0.7948 - val_loss: 1.0035 - val_accuracy: 0.6474\n",
      "Epoch 23/30\n",
      "93/93 [==============================] - 10s 105ms/step - loss: 0.6301 - accuracy: 0.7867 - val_loss: 1.0037 - val_accuracy: 0.6568\n",
      "Epoch 24/30\n",
      "93/93 [==============================] - 10s 103ms/step - loss: 0.6072 - accuracy: 0.7945 - val_loss: 0.9973 - val_accuracy: 0.6514\n",
      "Epoch 25/30\n",
      "93/93 [==============================] - 12s 129ms/step - loss: 0.5818 - accuracy: 0.8032 - val_loss: 1.0175 - val_accuracy: 0.6501\n",
      "Epoch 26/30\n",
      "93/93 [==============================] - 12s 125ms/step - loss: 0.5696 - accuracy: 0.8160 - val_loss: 0.9833 - val_accuracy: 0.6662\n",
      "Epoch 27/30\n",
      "93/93 [==============================] - 10s 110ms/step - loss: 0.5610 - accuracy: 0.8191 - val_loss: 0.9914 - val_accuracy: 0.6676\n",
      "Epoch 28/30\n",
      "93/93 [==============================] - 13s 138ms/step - loss: 0.5265 - accuracy: 0.8319 - val_loss: 0.9957 - val_accuracy: 0.6676\n",
      "Epoch 29/30\n",
      "93/93 [==============================] - 11s 119ms/step - loss: 0.5053 - accuracy: 0.8363 - val_loss: 0.9878 - val_accuracy: 0.6662\n",
      "Epoch 30/30\n",
      "93/93 [==============================] - 12s 133ms/step - loss: 0.4857 - accuracy: 0.8403 - val_loss: 0.9767 - val_accuracy: 0.6729\n"
     ]
    }
   ],
   "source": [
    "# train model\n",
    "history = model.fit(X_train, y_train, validation_data=(X_validation, y_validation), batch_size=32, epochs=30)"
   ]
  },
  {
   "cell_type": "code",
   "execution_count": 12,
   "id": "b7435777-b959-4d61-a2a7-98f1ada5b9ab",
   "metadata": {},
   "outputs": [
    {
     "name": "stdout",
     "output_type": "stream",
     "text": [
      "39/39 - 2s - loss: 0.9821 - accuracy: 0.6718 - 2s/epoch - 60ms/step\n",
      "\n",
      "Test accuracy: 0.6717866063117981\n"
     ]
    }
   ],
   "source": [
    "# evaluate model on test set\n",
    "test_loss, test_acc = model.evaluate(X_test, y_test, verbose=2)\n",
    "print('\\nTest accuracy:', test_acc)"
   ]
  },
  {
   "cell_type": "code",
   "execution_count": null,
   "id": "4fe3fa98-935f-4cfd-afb9-ef8b1591ad17",
   "metadata": {},
   "outputs": [],
   "source": []
  }
 ],
 "metadata": {
  "kernelspec": {
   "display_name": "Python 3 (ipykernel)",
   "language": "python",
   "name": "python3"
  },
  "language_info": {
   "codemirror_mode": {
    "name": "ipython",
    "version": 3
   },
   "file_extension": ".py",
   "mimetype": "text/x-python",
   "name": "python",
   "nbconvert_exporter": "python",
   "pygments_lexer": "ipython3",
   "version": "3.8.18"
  }
 },
 "nbformat": 4,
 "nbformat_minor": 5
}
