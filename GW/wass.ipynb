{
 "cells": [
  {
   "cell_type": "markdown",
   "metadata": {},
   "source": [
    "# Calculate Wasserstein Distance for the different Genre of Musics"
   ]
  },
  {
   "cell_type": "code",
   "execution_count": 5,
   "id": "1a17be82-a2bd-4214-b6e0-117f9c358a35",
   "metadata": {},
   "outputs": [],
   "source": [
    "import numpy as np\n",
    "import pandas as pd\n",
    "import librosa\n",
    "import math\n",
    "import os"
   ]
  },
  {
   "cell_type": "code",
   "execution_count": null,
   "id": "d64326b8-055b-4efe-8324-df4e70f734dc",
   "metadata": {},
   "outputs": [],
   "source": [
    "all_raw_data = []\n",
    "dataset_path = \"../datasets/raw_data/GTZAN_Dataset/genres_original\"\n",
    "for dirpath, dirnames, filenames in os.walk(dataset_path):\n",
    "    if dirpath is not dataset_path:\n",
    "        for f in filenames: #f = 'blues.00000.wav'\n",
    "            file_path = os.path.join(dirpath, f) # file_path = '/desktop/genre/blues/blues.00000.wav'\n",
    "            signal, sr = librosa.load(file_path, sr=22050)\n",
    "            all_raw_data.append(signal)\n",
    "            \n",
    "        \n",
    "\n",
    "\n",
    "        \n",
    "    "
   ]
  },
  {
   "cell_type": "code",
   "execution_count": 2,
   "id": "e6e7181a-3ac0-49bc-a063-2ee0b924732d",
   "metadata": {},
   "outputs": [],
   "source": [
    "file1 = librosa.load(\"Data/genres_original/disco/disco.00000.wav\")\n",
    "file2 = librosa.load(\"Data/genres_original/disco/disco.00001.wav\")\n",
    "file3 = librosa.load(\"Data/genres_original/jazz/jazz.00000.wav\")\n",
    "\n",
    "file4 = librosa.load(\"Data/genres_original/jazz/jazz.00001.wav\")"
   ]
  },
  {
   "cell_type": "code",
   "execution_count": null,
   "id": "8e5362ed-e306-46de-afc5-1974c013c3fe",
   "metadata": {},
   "outputs": [],
   "source": [
    "all_raw_data[890]"
   ]
  },
  {
   "cell_type": "code",
   "execution_count": 57,
   "id": "8b263245-0fb9-403d-a1ba-0b1c77503409",
   "metadata": {},
   "outputs": [],
   "source": [
    "def normalize(X):\n",
    "    X_min = np.min(X)\n",
    "    X_max = np.max(X)\n",
    "    X_norm = ((X - X_min) / (X_max - X_min))*2 -1\n",
    "    return X_norm"
   ]
  },
  {
   "cell_type": "code",
   "execution_count": 6,
   "id": "fb6e34c7-54e4-4b82-9ce8-43528cf64825",
   "metadata": {},
   "outputs": [],
   "source": [
    "#timeseries = [normalize(file1[0]),normalize(file2[0]),normalize(file3[0]),normalize(file4[0])]\n",
    "timeseries = [file1[0],file2[0],file3[0],file4[0]]"
   ]
  },
  {
   "cell_type": "code",
   "execution_count": null,
   "id": "b6779d2e-f33a-44bb-b12c-0f5e89e0fae8",
   "metadata": {},
   "outputs": [],
   "source": [
    "normalized_data = []\n",
    "for data in all_raw_data:\n",
    "    normalized_data.append(normalize(data))\n",
    "    "
   ]
  },
  {
   "cell_type": "code",
   "execution_count": null,
   "id": "ec54669d-0777-474e-a9f8-83bfbd3ad4f9",
   "metadata": {},
   "outputs": [],
   "source": []
  },
  {
   "cell_type": "code",
   "execution_count": 7,
   "id": "667ed8da-309b-455a-b3ab-53305b37227e",
   "metadata": {},
   "outputs": [],
   "source": [
    "def intrinsic_distances(arr):\n",
    "#    for i in range(len(arr)):\n",
    "#        arr[i] = math.sqrt((1/22050)**2 + arr[i]**2)\n",
    "\n",
    "    pairwise_distances = [0]\n",
    "    for i in range(len(arr)-1):\n",
    "        pairwise_distances.append(abs(arr[i]-arr[i+1]))\n",
    "    \n",
    "    partial = 0\n",
    "    sum = []\n",
    "    for num in pairwise_distances:\n",
    "        partial += num\n",
    "        sum.append(partial)\n",
    "    \n",
    "    return sum\n",
    "    "
   ]
  },
  {
   "cell_type": "code",
   "execution_count": null,
   "id": "e4d72d34-ee9b-469c-b0d3-65c2ed4aaffc",
   "metadata": {},
   "outputs": [],
   "source": [
    "arr = [2,4]\n",
    "arr.reverse()"
   ]
  },
  {
   "cell_type": "code",
   "execution_count": null,
   "id": "fcfee1aa-9eaf-4270-a4e3-e804a59eaad6",
   "metadata": {},
   "outputs": [],
   "source": [
    "arr"
   ]
  },
  {
   "cell_type": "code",
   "execution_count": 8,
   "id": "03e23061-2b24-4a77-ae29-f980f727e433",
   "metadata": {},
   "outputs": [],
   "source": [
    "use_this = []\n",
    "for i in range(4):\n",
    "    use_this.append(intrinsic_distances(timeseries[i]))\n"
   ]
  },
  {
   "cell_type": "code",
   "execution_count": 9,
   "id": "2bf3e0e4-b0bb-4038-af5c-3f7e7de41afd",
   "metadata": {},
   "outputs": [],
   "source": [
    "audio =[]\n",
    "for i in range(4):\n",
    "    audio.append(np.array(use_this[i]))"
   ]
  },
  {
   "cell_type": "code",
   "execution_count": null,
   "id": "2ce3ffa5-7fa1-4c81-8a6d-13d3c1dcef61",
   "metadata": {},
   "outputs": [],
   "source": []
  },
  {
   "cell_type": "code",
   "execution_count": null,
   "id": "2108aae3-ee19-41ab-aea9-4504ef2bf07b",
   "metadata": {},
   "outputs": [],
   "source": [
    "use_that = []\n",
    "for i in range(len(normalized_data)):\n",
    "    use_that.append(intrinsic_distances(normalized_data[i]))\n",
    "\n",
    "for i in range(len(normalized_data)):\n",
    "    use_that[i].reverse()"
   ]
  },
  {
   "cell_type": "code",
   "execution_count": null,
   "id": "52ebd291-3776-426f-8266-b04a63a754dc",
   "metadata": {},
   "outputs": [],
   "source": [
    "all_audio = []\n",
    "for i in range(len(normalized_data)):\n",
    "    all_audio.append(np.array(use_that[i]))"
   ]
  },
  {
   "cell_type": "code",
   "execution_count": 15,
   "id": "adc4f71d-6f39-403b-9b1b-9514eb20291f",
   "metadata": {},
   "outputs": [],
   "source": [
    "audio_test =[]\n",
    "for arr in audio:\n",
    "    audio_test.append(arr[:660000])"
   ]
  },
  {
   "cell_type": "code",
   "execution_count": 20,
   "id": "5f4a9749-4098-4021-a8c3-04db341f8d0e",
   "metadata": {},
   "outputs": [],
   "source": [
    "np.save('deneme kayit', audio_test)"
   ]
  },
  {
   "cell_type": "code",
   "execution_count": 62,
   "id": "a9d82f9f-b342-4aa0-8f4b-a8592703bc4c",
   "metadata": {},
   "outputs": [],
   "source": [
    "def wass(v1,v2):\n",
    "    v1 = v1[:661000]\n",
    "    v2 = v2[:661000]\n",
    "    diff = v1 - v2\n",
    "    sqr = np.square(diff)\n",
    "    sum = np.sum(sqr) / len(v1)\n",
    "    result = np.sqrt(sum)\n",
    "    return result"
   ]
  },
  {
   "cell_type": "code",
   "execution_count": 70,
   "id": "43baeed6-f2f0-4f29-9090-266080c8dae5",
   "metadata": {},
   "outputs": [
    {
     "data": {
      "text/plain": [
       "2734.4896714694287"
      ]
     },
     "execution_count": 70,
     "metadata": {},
     "output_type": "execute_result"
    }
   ],
   "source": [
    "wass(audio[2],audio[3])"
   ]
  },
  {
   "cell_type": "code",
   "execution_count": null,
   "id": "0530962d-1b1c-4587-827e-95ed0f05255d",
   "metadata": {},
   "outputs": [],
   "source": []
  },
  {
   "cell_type": "code",
   "execution_count": null,
   "id": "e4b7db35-ecb1-422b-b5c7-9ae14b29ad37",
   "metadata": {},
   "outputs": [],
   "source": []
  },
  {
   "cell_type": "code",
   "execution_count": null,
   "id": "4f93cda3-64a0-40c9-9d5b-6956b9b0dd34",
   "metadata": {},
   "outputs": [],
   "source": []
  }
 ],
 "metadata": {
  "kernelspec": {
   "display_name": "Python 3 (ipykernel)",
   "language": "python",
   "name": "python3"
  },
  "language_info": {
   "codemirror_mode": {
    "name": "ipython",
    "version": 3
   },
   "file_extension": ".py",
   "mimetype": "text/x-python",
   "name": "python",
   "nbconvert_exporter": "python",
   "pygments_lexer": "ipython3",
   "version": "3.11.5"
  }
 },
 "nbformat": 4,
 "nbformat_minor": 5
}
