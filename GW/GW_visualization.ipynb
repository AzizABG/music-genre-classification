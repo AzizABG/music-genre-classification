{
 "cells": [
  {
   "cell_type": "code",
   "execution_count": null,
   "id": "d3e41323",
   "metadata": {},
   "outputs": [],
   "source": [
    "import numpy as np\n",
    "import pandas as pd\n",
    "import sklearn\n",
    "import tensorflow as tf\n",
    "import matplotlib.pyplot as plt\n",
    "import seaborn as sns \n",
    "import librosa \n",
    "import os\n",
    "import glob\n",
    "from scipy.stats import wasserstein_distance"
   ]
  },
  {
   "cell_type": "markdown",
   "metadata": {},
   "source": [
    "# Importing example of the raw data in the GTZAN dataset. Blues and Country Music"
   ]
  },
  {
   "cell_type": "code",
   "execution_count": null,
   "id": "7b82e1ac",
   "metadata": {},
   "outputs": [],
   "source": [
    "data_dir = '../datasets/raw_data/GTZAN_Dataset/genres_original'\n",
    "blues_audio_files = sorted(glob.glob(data_dir + \"/blues\" + \"/*.wav\"))\n",
    "country_audio_files = sorted(glob.glob(data_dir + \"/country\" + \"/*.wav\"))"
   ]
  },
  {
   "cell_type": "markdown",
   "metadata": {},
   "source": [
    "# Exploring Data Features"
   ]
  },
  {
   "cell_type": "code",
   "execution_count": null,
   "id": "596f46b4",
   "metadata": {},
   "outputs": [],
   "source": [
    "librosa.load(blues_audio_files[1])"
   ]
  },
  {
   "cell_type": "code",
   "execution_count": null,
   "id": "04f44a30",
   "metadata": {},
   "outputs": [],
   "source": [
    "b1_audio, b1_freq = librosa.load(blues_audio_files[0])\n",
    "b2_audio , b2_freq = librosa.load(blues_audio_files[1])\n",
    "b3_audio , b3_freq = librosa.load(blues_audio_files[2])"
   ]
  },
  {
   "cell_type": "code",
   "execution_count": null,
   "metadata": {},
   "outputs": [],
   "source": [
    "c1_audio, c1_freq = librosa.load(country_audio_files[0])\n",
    "c2_audio , c2_freq = librosa.load(country_audio_files[1])\n",
    "c3_audio , c3_freq = librosa.load(country_audio_files[2])\n",
    "\n",
    "print(c1_audio.shape,c2_audio.shape, c3_audio.shape)\n",
    "print(c1_freq, c2_freq, c3_freq)"
   ]
  },
  {
   "cell_type": "code",
   "execution_count": null,
   "metadata": {},
   "outputs": [],
   "source": [
    "n_pt = 661000"
   ]
  },
  {
   "cell_type": "code",
   "execution_count": null,
   "metadata": {},
   "outputs": [],
   "source": [
    "X,_ = librosa.load(blues_audio_files[0])\n",
    "X = X[:n_pt]\n",
    "for i in range(1,100):\n",
    "    bi,_ = librosa.load(blues_audio_files[i])\n",
    "    X = np.column_stack((X,bi[:n_pt]))\n",
    "X.shape"
   ]
  },
  {
   "cell_type": "code",
   "execution_count": null,
   "metadata": {},
   "outputs": [],
   "source": [
    "Y, _ = librosa.load(country_audio_files[0])\n",
    "Y = Y[:n_pt]\n",
    "for i in range(1,100):\n",
    "    ci, _ = librosa.load(country_audio_files[i])\n",
    "    Y = np.column_stack((Y,ci[:n_pt]))\n",
    "Y.shape"
   ]
  },
  {
   "cell_type": "code",
   "execution_count": null,
   "metadata": {},
   "outputs": [],
   "source": [
    "# Computation time is so high with 661000 points, just lessen the points to have a reasonable time cost\n",
    "n_pt2 = 400"
   ]
  },
  {
   "cell_type": "code",
   "execution_count": null,
   "metadata": {},
   "outputs": [],
   "source": [
    "X1 = X[:n_pt2,:]\n",
    "Y1 = Y[:n_pt2,:]\n",
    "XN = np.concatenate([X1,Y1], axis=1)"
   ]
  },
  {
   "cell_type": "markdown",
   "metadata": {},
   "source": [
    "# GW-Distance\n",
    " Implementation of Scalable Gromow-Wasserstein distance, which has been founded and described by [Natalia Kravtsova, Reginald L. McGee II & Adriana T. Dawes](https://link.springer.com/article/10.1007/s11538-023-01175-y). "
   ]
  },
  {
   "cell_type": "code",
   "execution_count": null,
   "metadata": {},
   "outputs": [],
   "source": []
  },
  {
   "cell_type": "code",
   "execution_count": null,
   "metadata": {},
   "outputs": [],
   "source": [
    "def gw_distance_matrix(XN, n_pt):\n",
    "    '''\n",
    "    Requires scipy.stats.wasserstein_distance\n",
    "    XN narray\n",
    "    n_pt: int -> # of points that \n",
    "    '''\n",
    "    n = XN.shape[1]\n",
    "    # n_time_pts = X.shape[0]\n",
    "    time = np.arange(n_pt)\n",
    "\n",
    "    # GWtaud\n",
    "    GW = np.zeros((n, n))\n",
    "    for i in range(n):\n",
    "        for j in range(i + 1, n):\n",
    "            Traji = np.column_stack((time, XN[:, i]))\n",
    "            Trajj = np.column_stack((time, XN[:, j]))\n",
    "            vi = np.linalg.norm(np.diff(Traji, axis=0), axis=1)\n",
    "            vj = np.linalg.norm(np.diff(Trajj, axis=0), axis=1)\n",
    "            GW[i, j] = wasserstein_distance(vi, vj)\n",
    "\n",
    "    GW = GW + GW.T\n",
    "    return GW \n",
    "\n",
    "GW = gw_distance_matrix(XN, n_pt2)"
   ]
  },
  {
   "cell_type": "markdown",
   "metadata": {},
   "source": [
    "# GW Distance matrix between blues and country musics genres."
   ]
  },
  {
   "cell_type": "code",
   "execution_count": null,
   "metadata": {},
   "outputs": [],
   "source": [
    "plt.imshow(GW, cmap='cool', interpolation='none')\n",
    "plt.title('GWtau')\n",
    "plt.colorbar()"
   ]
  },
  {
   "cell_type": "code",
   "execution_count": null,
   "metadata": {},
   "outputs": [],
   "source": [
    "sns.heatmap(GW)"
   ]
  },
  {
   "cell_type": "markdown",
   "id": "4aa4c423",
   "metadata": {},
   "source": [
    "# Different Data Feature for the 3 sec time windows\n",
    "\n"
   ]
  },
  {
   "cell_type": "code",
   "execution_count": null,
   "metadata": {},
   "outputs": [],
   "source": [
    "F3 = pd.read_csv('datasets/GTZAN_Dataset/features_3_sec.csv')\n"
   ]
  },
  {
   "cell_type": "code",
   "execution_count": null,
   "metadata": {},
   "outputs": [],
   "source": [
    "F3"
   ]
  },
  {
   "cell_type": "code",
   "execution_count": null,
   "metadata": {},
   "outputs": [],
   "source": [
    "F3n = F3['mfcc10_mean'].to_numpy()\n",
    "F3n = F3n.reshape(999,10).T"
   ]
  },
  {
   "cell_type": "code",
   "execution_count": null,
   "metadata": {},
   "outputs": [],
   "source": [
    "# n = F3n.shape[1]\n",
    "# # n_time_pts = X.shape[0]\n",
    "# time = np.arange(10)\n",
    "\n",
    "# # GWtau\n",
    "# GW = np.zeros((n, n))\n",
    "# for i in range(n):\n",
    "#     for j in range(i + 1, n):\n",
    "#         Traji = np.column_stack((time, F3n[:, i]))\n",
    "#         Trajj = np.column_stack((time, F3n[:, j]))\n",
    "#         vi = np.linalg.norm(np.diff(Traji, axis=0), axis=1)\n",
    "#         vj = np.linalg.norm(np.diff(Trajj, axis=0), axis=1)\n",
    "#         GW[i, j] = wasserstein_distance(vi, vj)\n",
    "\n",
    "# GW = GW + GW.T"
   ]
  },
  {
   "cell_type": "markdown",
   "metadata": {},
   "source": [
    "## mfcc10_mean"
   ]
  },
  {
   "cell_type": "code",
   "execution_count": null,
   "metadata": {},
   "outputs": [],
   "source": [
    "GW = gw_distance_matrix(F3n,n_pt=10)\n",
    "sns.heatmap(GW)"
   ]
  },
  {
   "cell_type": "code",
   "execution_count": null,
   "metadata": {},
   "outputs": [],
   "source": [
    "F3n.T[0,:]"
   ]
  },
  {
   "cell_type": "markdown",
   "metadata": {},
   "source": [
    "## chroma_stft_var"
   ]
  },
  {
   "cell_type": "code",
   "execution_count": null,
   "metadata": {},
   "outputs": [],
   "source": [
    "F3n = F3['chroma_stft_var'].to_numpy().reshape(999,10).T\n",
    "\n",
    "GW = gw_distance_matrix(F3n, n_pt=10)\n",
    "# n = F3n.shape[1]\n",
    "# # n_time_pts = X.shape[0]\n",
    "# time = np.arange(10)\n",
    "\n",
    "# # GWtau\n",
    "# GW = np.zeros((n, n))\n",
    "# for i in range(n):\n",
    "#     for j in range(i + 1, n):\n",
    "#         Traji = np.column_stack((time, F3n[:, i]))\n",
    "#         Trajj = np.column_stack((time, F3n[:, j]))\n",
    "#         vi = np.linalg.norm(np.diff(Traji, axis=0), axis=1)\n",
    "#         vj = np.linalg.norm(np.diff(Trajj, axis=0), axis=1)\n",
    "#         GW[i, j] = wasserstein_distance(vi, vj)\n",
    "\n",
    "# GW = GW + GW.T\n",
    "\n",
    "\n"
   ]
  },
  {
   "cell_type": "code",
   "execution_count": null,
   "metadata": {},
   "outputs": [],
   "source": [
    "plt.imshow(GW, cmap='gist_stern', interpolation='none')\n",
    "plt.title('GWtau')\n",
    "plt.colorbar()"
   ]
  },
  {
   "cell_type": "code",
   "execution_count": null,
   "metadata": {},
   "outputs": [],
   "source": [
    "col_list = F3.columns.values.tolist()\n",
    "print(\"Get the list from DataFrame column:\\n\", col_list)\n"
   ]
  },
  {
   "cell_type": "code",
   "execution_count": null,
   "metadata": {},
   "outputs": [],
   "source": [
    "my_list = list()\n",
    "\n",
    "for names in col_list[2:]:\n",
    "    F3n = F3[names].to_numpy().reshape(999,10).T\n",
    "\n",
    "    n = F3n.shape[1]\n",
    "    # n_time_pts = X.shape[0]\n",
    "    time = np.arange(10)\n",
    "\n",
    "    # GWtau\n",
    "    GW = np.zeros((n, n))\n",
    "    for i in range(n):\n",
    "        for j in range(i + 1, n):\n",
    "            Traji = np.column_stack((time, F3n[:, i]))\n",
    "            Trajj = np.column_stack((time, F3n[:, j]))\n",
    "            vi = np.linalg.norm(np.diff(Traji, axis=0), axis=1)\n",
    "            vj = np.linalg.norm(np.diff(Trajj, axis=0), axis=1)\n",
    "            GW[i, j] = wasserstein_distance(vi, vj)\n",
    "\n",
    "    GW = GW + GW.T\n",
    "\n",
    "    my_list.append([GW,names])"
   ]
  },
  {
   "cell_type": "markdown",
   "metadata": {},
   "source": [
    "# Visualizing of GW distance for different audio features  "
   ]
  },
  {
   "cell_type": "code",
   "execution_count": null,
   "metadata": {},
   "outputs": [],
   "source": [
    "# for DM in my_list:\n",
    "#     plt.imshow(DM[0], cmap='gist_stern', interpolation='none')\n",
    "#     plt.title('GWtau {}'.format(DM[1]))\n",
    "#     plt.colorbar()\n",
    "#     plt.show()"
   ]
  },
  {
   "cell_type": "markdown",
   "metadata": {},
   "source": [
    "# Same Visualization by using Seaborn module"
   ]
  },
  {
   "cell_type": "code",
   "execution_count": null,
   "metadata": {},
   "outputs": [],
   "source": [
    "# for DM in my_list:\n",
    "#     ax = plt.axes()\n",
    "#     sns.heatmap(DM[0], ax = ax)\n",
    "#     ax.set_title('GWtau {}'.format(DM[1]))\n",
    "#     plt.show()"
   ]
  },
  {
   "cell_type": "code",
   "execution_count": null,
   "metadata": {},
   "outputs": [],
   "source": [
    "plt.imshow(DM[0], cmap='gist_stern', interpolation='none')\n",
    "plt.title('GWtau {}'.format(DM[1]))\n",
    "plt.colorbar()\n",
    "plt.show()"
   ]
  },
  {
   "cell_type": "markdown",
   "metadata": {},
   "source": [
    "# All GW Distance Matrices at one frame "
   ]
  },
  {
   "cell_type": "code",
   "execution_count": null,
   "metadata": {},
   "outputs": [],
   "source": [
    "fig, axs = plt.subplots(7, 8, figsize=(70, 80))  # 7 rows, 8 columns for 56 subplots\n",
    "fig.tight_layout(pad=2.0)  # Adjust the spacing between subplots\n",
    "\n",
    "# Iterate through the list and plot each array with its corresponding name\n",
    "for i, (array, name) in enumerate(my_list):\n",
    "    row, col = divmod(i, 8)  # Calculate the row and column indices\n",
    "    ax = axs[row, col]\n",
    "    \n",
    "    # Display the array using imshow\n",
    "    ax.imshow(array, cmap='viridis', interpolation='nearest')\n",
    "    \n",
    "    # Annotate with the name\n",
    "    ax.set_title(name, fontsize=30)\n",
    "    \n",
    "    # Turn off axis labels and ticks for better visibility\n",
    "    # ax.axis('off')\n",
    "\n",
    "plt.show()"
   ]
  }
 ],
 "metadata": {
  "kernelspec": {
   "display_name": "Python 3 (ipykernel)",
   "language": "python",
   "name": "python3"
  },
  "language_info": {
   "codemirror_mode": {
    "name": "ipython",
    "version": 3
   },
   "file_extension": ".py",
   "mimetype": "text/x-python",
   "name": "python",
   "nbconvert_exporter": "python",
   "pygments_lexer": "ipython3",
   "version": "3.8.18"
  }
 },
 "nbformat": 4,
 "nbformat_minor": 5
}
