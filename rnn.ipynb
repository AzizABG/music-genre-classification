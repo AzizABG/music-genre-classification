{
  "cells": [
    {
      "cell_type": "code",
      "execution_count": 2,
      "metadata": {
        "id": "CPmoBk9I2CX2"
      },
      "outputs": [],
      "source": [
        "import json\n",
        "import numpy as np\n",
        "from sklearn.model_selection import train_test_split\n",
        "import tensorflow.keras as keras"
      ]
    },
    {
      "cell_type": "code",
      "execution_count": 8,
      "metadata": {
        "id": "QB-8GVdy2KQf"
      },
      "outputs": [],
      "source": [
        "DATA_PATH = \"datasets/processed_data/data.json\""
      ]
    },
    {
      "cell_type": "code",
      "execution_count": 9,
      "metadata": {
        "id": "IUQz-FCt3_iV"
      },
      "outputs": [],
      "source": [
        "def load_data(data_path):\n",
        "    \"\"\"Loads training dataset from json file.\n",
        "\n",
        "        :param data_path (str): Path to json file containing data\n",
        "        :return X (ndarray): Inputs\n",
        "        :return y (ndarray): Targets\n",
        "    \"\"\"\n",
        "\n",
        "    with open(data_path, \"r\") as fp:\n",
        "        data = json.load(fp)\n",
        "\n",
        "    X = np.array(data[\"mfcc\"])\n",
        "    y = np.array(data[\"labels\"])\n",
        "    return X, y"
      ]
    },
    {
      "cell_type": "code",
      "execution_count": 10,
      "metadata": {
        "id": "k4oK-yQ04QUM"
      },
      "outputs": [],
      "source": [
        "def prepare_datasets(test_size, validation_size):\n",
        "    \"\"\"Loads data and splits it into train, validation and test sets.\n",
        "\n",
        "    :param test_size (float): Value in [0, 1] indicating percentage of data set to allocate to test split\n",
        "    :param validation_size (float): Value in [0, 1] indicating percentage of train set to allocate to validation split\n",
        "\n",
        "    :return X_train (ndarray): Input training set\n",
        "    :return X_validation (ndarray): Input validation set\n",
        "    :return X_test (ndarray): Input test set\n",
        "    :return y_train (ndarray): Target training set\n",
        "    :return y_validation (ndarray): Target validation set\n",
        "    :return y_test (ndarray): Target test set\n",
        "    \"\"\"\n",
        "\n",
        "    # load data\n",
        "    X, y = load_data(DATA_PATH)\n",
        "\n",
        "    # create train, validation and test split\n",
        "    X_train, X_test, y_train, y_test = train_test_split(X, y, test_size=test_size)\n",
        "    X_train, X_validation, y_train, y_validation = train_test_split(X_train, y_train, test_size=validation_size)\n",
        "\n",
        "    return X_train, X_validation, X_test, y_train, y_validation, y_test\n"
      ]
    },
    {
      "cell_type": "code",
      "execution_count": 11,
      "metadata": {
        "id": "7bFjMS0A4Sy7"
      },
      "outputs": [],
      "source": [
        "def build_model(input_shape):\n",
        "    \"\"\"Generates RNN-LSTM model\n",
        "\n",
        "    :param input_shape (tuple): Shape of input set\n",
        "    :return model: RNN-LSTM model\n",
        "    \"\"\"\n",
        "\n",
        "    # build network topology\n",
        "    model = keras.Sequential()\n",
        "\n",
        "    # 2 LSTM layers\n",
        "    model.add(keras.layers.LSTM(64, input_shape=input_shape, return_sequences=True))\n",
        "    model.add(keras.layers.LSTM(64))\n",
        "\n",
        "    # dense layer\n",
        "    model.add(keras.layers.Dense(64, activation='relu'))\n",
        "    model.add(keras.layers.Dropout(0.3))\n",
        "\n",
        "    # output layer\n",
        "    model.add(keras.layers.Dense(10, activation='softmax'))\n",
        "\n",
        "    return model"
      ]
    },
    {
      "cell_type": "code",
      "execution_count": 12,
      "metadata": {
        "id": "9gSZniC24V22"
      },
      "outputs": [],
      "source": [
        "# get train, validation, test splits\n",
        "X_train, X_validation, X_test, y_train, y_validation, y_test = prepare_datasets(0.25, 0.2)"
      ]
    },
    {
      "cell_type": "code",
      "execution_count": 13,
      "metadata": {
        "id": "aJSV1Bya4ZRs"
      },
      "outputs": [],
      "source": [
        "# create network\n",
        "input_shape = (X_train.shape[1], X_train.shape[2]) # 130, 13\n",
        "model = build_model(input_shape)"
      ]
    },
    {
      "cell_type": "code",
      "execution_count": 14,
      "metadata": {
        "id": "dKTeMcRZ4pNb"
      },
      "outputs": [],
      "source": [
        "# compile model\n",
        "optimiser = keras.optimizers.Adam(learning_rate=0.0001)\n",
        "model.compile(optimizer=optimiser,\n",
        "              loss='sparse_categorical_crossentropy',\n",
        "              metrics=['accuracy'])"
      ]
    },
    {
      "cell_type": "code",
      "execution_count": 15,
      "metadata": {
        "colab": {
          "base_uri": "https://localhost:8080/"
        },
        "id": "vQI-VGiH4urI",
        "outputId": "58f8f58e-61e3-40b9-d314-7078512fb52d"
      },
      "outputs": [
        {
          "data": {
            "text/plain": [
              "<bound method Model.summary of <keras.src.engine.sequential.Sequential object at 0x7fece7dfb460>>"
            ]
          },
          "execution_count": 15,
          "metadata": {},
          "output_type": "execute_result"
        }
      ],
      "source": [
        "model.summary"
      ]
    },
    {
      "cell_type": "code",
      "execution_count": 16,
      "metadata": {
        "colab": {
          "base_uri": "https://localhost:8080/"
        },
        "id": "1GwUe5eh4zxb",
        "outputId": "85f0f640-c11a-4435-98b3-f2599ae4ea76"
      },
      "outputs": [
        {
          "name": "stdout",
          "output_type": "stream",
          "text": [
            "Epoch 1/30\n",
            "93/93 [==============================] - 39s 358ms/step - loss: 2.2600 - accuracy: 0.1452 - val_loss: 2.1894 - val_accuracy: 0.2396\n",
            "Epoch 2/30\n",
            "93/93 [==============================] - 30s 317ms/step - loss: 2.1430 - accuracy: 0.2466 - val_loss: 2.0704 - val_accuracy: 0.3230\n",
            "Epoch 3/30\n",
            "93/93 [==============================] - 33s 353ms/step - loss: 2.0383 - accuracy: 0.3032 - val_loss: 1.9600 - val_accuracy: 0.3553\n",
            "Epoch 4/30\n",
            "93/93 [==============================] - 32s 341ms/step - loss: 1.9437 - accuracy: 0.3309 - val_loss: 1.8502 - val_accuracy: 0.3742\n",
            "Epoch 5/30\n",
            "93/93 [==============================] - 30s 325ms/step - loss: 1.8521 - accuracy: 0.3598 - val_loss: 1.7780 - val_accuracy: 0.3863\n",
            "Epoch 6/30\n",
            "93/93 [==============================] - 31s 328ms/step - loss: 1.7696 - accuracy: 0.3972 - val_loss: 1.7115 - val_accuracy: 0.4078\n",
            "Epoch 7/30\n",
            "93/93 [==============================] - 31s 337ms/step - loss: 1.7028 - accuracy: 0.4195 - val_loss: 1.6564 - val_accuracy: 0.4240\n",
            "Epoch 8/30\n",
            "93/93 [==============================] - 32s 346ms/step - loss: 1.6653 - accuracy: 0.4218 - val_loss: 1.6156 - val_accuracy: 0.4482\n",
            "Epoch 9/30\n",
            "93/93 [==============================] - 32s 348ms/step - loss: 1.6252 - accuracy: 0.4417 - val_loss: 1.5764 - val_accuracy: 0.4415\n",
            "Epoch 10/30\n",
            "93/93 [==============================] - 29s 316ms/step - loss: 1.5993 - accuracy: 0.4424 - val_loss: 1.6167 - val_accuracy: 0.4266\n",
            "Epoch 11/30\n",
            "93/93 [==============================] - 31s 328ms/step - loss: 1.5773 - accuracy: 0.4481 - val_loss: 1.5320 - val_accuracy: 0.4724\n",
            "Epoch 12/30\n",
            "93/93 [==============================] - 33s 354ms/step - loss: 1.5269 - accuracy: 0.4643 - val_loss: 1.5125 - val_accuracy: 0.4590\n",
            "Epoch 13/30\n",
            "93/93 [==============================] - 34s 365ms/step - loss: 1.5004 - accuracy: 0.4828 - val_loss: 1.4870 - val_accuracy: 0.4872\n",
            "Epoch 14/30\n",
            "93/93 [==============================] - 33s 356ms/step - loss: 1.4648 - accuracy: 0.4781 - val_loss: 1.4476 - val_accuracy: 0.5007\n",
            "Epoch 15/30\n",
            "93/93 [==============================] - 30s 321ms/step - loss: 1.4475 - accuracy: 0.4872 - val_loss: 1.4355 - val_accuracy: 0.5061\n",
            "Epoch 16/30\n",
            "93/93 [==============================] - 33s 359ms/step - loss: 1.4021 - accuracy: 0.5057 - val_loss: 1.4498 - val_accuracy: 0.4913\n",
            "Epoch 17/30\n",
            "93/93 [==============================] - 33s 356ms/step - loss: 1.3945 - accuracy: 0.5118 - val_loss: 1.4364 - val_accuracy: 0.5007\n",
            "Epoch 18/30\n",
            "93/93 [==============================] - 32s 346ms/step - loss: 1.3687 - accuracy: 0.5246 - val_loss: 1.4078 - val_accuracy: 0.5155\n",
            "Epoch 19/30\n",
            "93/93 [==============================] - 34s 370ms/step - loss: 1.3380 - accuracy: 0.5371 - val_loss: 1.3976 - val_accuracy: 0.5114\n",
            "Epoch 20/30\n",
            "93/93 [==============================] - 33s 359ms/step - loss: 1.3197 - accuracy: 0.5398 - val_loss: 1.3585 - val_accuracy: 0.5424\n",
            "Epoch 21/30\n",
            "93/93 [==============================] - 30s 323ms/step - loss: 1.3271 - accuracy: 0.5327 - val_loss: 1.3774 - val_accuracy: 0.5276\n",
            "Epoch 22/30\n",
            "93/93 [==============================] - 31s 337ms/step - loss: 1.2854 - accuracy: 0.5512 - val_loss: 1.3468 - val_accuracy: 0.5437\n",
            "Epoch 23/30\n",
            "93/93 [==============================] - 32s 344ms/step - loss: 1.3058 - accuracy: 0.5441 - val_loss: 1.3511 - val_accuracy: 0.5478\n",
            "Epoch 24/30\n",
            "93/93 [==============================] - 32s 343ms/step - loss: 1.2793 - accuracy: 0.5522 - val_loss: 1.3895 - val_accuracy: 0.5249\n",
            "Epoch 25/30\n",
            "93/93 [==============================] - 32s 345ms/step - loss: 1.2453 - accuracy: 0.5724 - val_loss: 1.3184 - val_accuracy: 0.5559\n",
            "Epoch 26/30\n",
            "93/93 [==============================] - 29s 315ms/step - loss: 1.2905 - accuracy: 0.5539 - val_loss: 1.3745 - val_accuracy: 0.5316\n",
            "Epoch 27/30\n",
            "93/93 [==============================] - 31s 327ms/step - loss: 1.2837 - accuracy: 0.5596 - val_loss: 1.3365 - val_accuracy: 0.5316\n",
            "Epoch 28/30\n",
            "93/93 [==============================] - 32s 343ms/step - loss: 1.2203 - accuracy: 0.5775 - val_loss: 1.3121 - val_accuracy: 0.5505\n",
            "Epoch 29/30\n",
            "93/93 [==============================] - 32s 340ms/step - loss: 1.1880 - accuracy: 0.5957 - val_loss: 1.3046 - val_accuracy: 0.5612\n",
            "Epoch 30/30\n",
            "93/93 [==============================] - 30s 320ms/step - loss: 1.1866 - accuracy: 0.5957 - val_loss: 1.3082 - val_accuracy: 0.5464\n"
          ]
        }
      ],
      "source": [
        "# train model\n",
        "history = model.fit(X_train, y_train, validation_data=(X_validation, y_validation), batch_size=32, epochs=30)"
      ]
    },
    {
      "cell_type": "code",
      "execution_count": 17,
      "metadata": {
        "colab": {
          "base_uri": "https://localhost:8080/"
        },
        "id": "TT2Ymj6S458X",
        "outputId": "bc23e555-45f5-4b22-8eae-922014180842"
      },
      "outputs": [
        {
          "name": "stdout",
          "output_type": "stream",
          "text": [
            "39/39 - 3s - loss: 1.3201 - accuracy: 0.5441 - 3s/epoch - 68ms/step\n",
            "\n",
            "Test accuracy: 0.5440582036972046\n"
          ]
        }
      ],
      "source": [
        "# evaluate model on test set\n",
        "test_loss, test_acc = model.evaluate(X_test, y_test, verbose=2)\n",
        "print('\\nTest accuracy:', test_acc)"
      ]
    }
  ],
  "metadata": {
    "colab": {
      "provenance": []
    },
    "kernelspec": {
      "display_name": "Python 3",
      "name": "python3"
    },
    "language_info": {
      "name": "python"
    }
  },
  "nbformat": 4,
  "nbformat_minor": 0
}
