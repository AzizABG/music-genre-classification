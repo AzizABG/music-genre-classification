{
 "cells": [
  {
   "cell_type": "code",
   "execution_count": 37,
   "metadata": {},
   "outputs": [],
   "source": [
    "# Importing necessary libraries\n",
    "from python_speech_features import mfcc\n",
    "import scipy.io.wavfile as wav\n",
    "import numpy as np\n",
    "import os\n",
    "import pickle\n",
    "import operator\n",
    "from sklearn.model_selection import train_test_split"
   ]
  },
  {
   "cell_type": "code",
   "execution_count": 38,
   "metadata": {},
   "outputs": [],
   "source": [
    "# Function to calculate a modified Mahalanobis distance between two instances\n",
    "def distance(instance1, instance2, k):\n",
    "    mm1, cm1 = instance1[0], instance1[1]\n",
    "    mm2, cm2 = instance2[0], instance2[1]\n",
    "\n",
    "    dist = np.trace(np.dot(np.linalg.inv(cm2), cm1))\n",
    "    dist += np.dot(np.dot((mm2 - mm1).T, np.linalg.inv(cm2)), mm2 - mm1)\n",
    "    dist += np.log(np.linalg.det(cm2)) - np.log(np.linalg.det(cm1))\n",
    "    dist -= k\n",
    "    return dist\n",
    "\n",
    "\n"
   ]
  },
  {
   "cell_type": "code",
   "execution_count": 39,
   "metadata": {},
   "outputs": [],
   "source": [
    "# Function to find the k nearest neighbors of an instance\n",
    "def getNeighbors(trainingSet, instance, k):\n",
    "    distances = [(train_instance[2], distance(train_instance, instance, k) + distance(instance, train_instance, k))\n",
    "                 for train_instance in trainingSet]\n",
    "    distances.sort(key=operator.itemgetter(1))\n",
    "    return [distances[x][0] for x in range(k)]"
   ]
  },
  {
   "cell_type": "code",
   "execution_count": 40,
   "metadata": {},
   "outputs": [],
   "source": [
    "# Function to determine the most frequent class in the neighbors\n",
    "def nearestClass(neighbors):\n",
    "    classVote = {}\n",
    "    for response in neighbors:\n",
    "        classVote[response] = classVote.get(response, 0) + 1\n",
    "    return sorted(classVote.items(), key=operator.itemgetter(1), reverse=True)[0][0]\n"
   ]
  },
  {
   "cell_type": "code",
   "execution_count": 41,
   "metadata": {},
   "outputs": [],
   "source": [
    "# Preprocessing to extract features from audio files and save to a file\n",
    "def preprocessAudioFiles(directory, outputFile):\n",
    "    f = open(outputFile, 'wb')\n",
    "    for i, folder in enumerate(filter(lambda f: f != \".DS_Store\", os.listdir(directory)), start=1):\n",
    "        if i == 11: break\n",
    "        for file in filter(lambda f: f != \".DS_Store\", os.listdir(os.path.join(directory, folder))):\n",
    "            rate, sig = wav.read(os.path.join(directory, folder, file))\n",
    "            mfcc_feat = mfcc(sig, rate, winlen=0.020, appendEnergy=False, nfft=1024)\n",
    "            covariance = np.cov(mfcc_feat.T)\n",
    "            mean_matrix = mfcc_feat.mean(axis=0)\n",
    "            feature = (mean_matrix, covariance, i)\n",
    "            pickle.dump(feature, f)\n",
    "    f.close()"
   ]
  },
  {
   "cell_type": "code",
   "execution_count": 42,
   "metadata": {},
   "outputs": [],
   "source": [
    "# Function to load dataset and split into training and test sets\n",
    "def loadDataset(filename, split):\n",
    "    dataset = []\n",
    "    with open(filename, 'rb') as f:\n",
    "        while True:\n",
    "            try:\n",
    "                dataset.append(pickle.load(f))\n",
    "            except EOFError:\n",
    "                break\n",
    "    return train_test_split(dataset, test_size=split, shuffle=True, random_state=321)"
   ]
  },
  {
   "cell_type": "code",
   "execution_count": 43,
   "metadata": {},
   "outputs": [],
   "source": [
    "# Function to calculate the accuracy of predictions\n",
    "def getAccuracy(testSet, predictions):\n",
    "    correct = sum(1 for x in range(len(testSet)) if testSet[x][-1] == predictions[x])\n",
    "    return correct / len(testSet)"
   ]
  },
  {
   "cell_type": "code",
   "execution_count": 44,
   "metadata": {},
   "outputs": [
    {
     "name": "stdout",
     "output_type": "stream",
     "text": [
      "Accuracy: 0.67\n"
     ]
    }
   ],
   "source": [
    "# Main execution block\n",
    "if __name__ == \"__main__\":\n",
    "    directory = \"../datasets/raw_data/GTZAN_Dataset/genres_original/\"\n",
    "    preprocessAudioFiles(directory, \"my.dat\")\n",
    "    \n",
    "    trainingSet, testSet = loadDataset(\"my.dat\", 0.15)\n",
    "    predictions = [nearestClass(getNeighbors(trainingSet, testInstance, 5)) for testInstance in testSet]\n",
    "    \n",
    "    accuracy = getAccuracy(testSet, predictions)\n",
    "    print(f\"Accuracy: {accuracy:.2f}\")"
   ]
  }
 ],
 "metadata": {
  "kernelspec": {
   "display_name": "Python 3",
   "language": "python",
   "name": "python3"
  },
  "language_info": {
   "codemirror_mode": {
    "name": "ipython",
    "version": 3
   },
   "file_extension": ".py",
   "mimetype": "text/x-python",
   "name": "python",
   "nbconvert_exporter": "python",
   "pygments_lexer": "ipython3",
   "version": "3.11.5"
  }
 },
 "nbformat": 4,
 "nbformat_minor": 2
}
